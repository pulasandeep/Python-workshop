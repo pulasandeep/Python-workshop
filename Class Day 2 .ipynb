{
 "cells": [
  {
   "cell_type": "markdown",
   "metadata": {},
   "source": [
    "# schedule\n",
    "### pending operators\n",
    "### control statements\n",
    "\n",
    "condition statements\n",
    "\n",
    "loops\n",
    "\n",
    "flow control\n",
    "\n",
    "### functions\n",
    "### strings"
   ]
  },
  {
   "cell_type": "markdown",
   "metadata": {},
   "source": [
    "# Logical operators\n",
    "### and or not\n",
    "\n",
    "checking conditions\n",
    "\n",
    "returns True or False\n",
    "\n",
    "#### and\n",
    "\n",
    "0 0 0\n",
    "\n",
    "0 1 0\n",
    "\n",
    "1 0 0\n",
    "\n",
    "1 1 1\n",
    "\n",
    "#### or\n",
    "\n",
    "0 0 0\n",
    "\n",
    "0 1 1\n",
    "\n",
    "1 0 1\n",
    "\n",
    "1 1 1\n",
    "\n",
    "#### not\n",
    "\n",
    "0 1\n",
    "\n",
    "1 0\n"
   ]
  },
  {
   "cell_type": "code",
   "execution_count": 6,
   "metadata": {},
   "outputs": [
    {
     "name": "stdout",
     "output_type": "stream",
     "text": [
      "10\n",
      "20\n",
      "True\n"
     ]
    }
   ],
   "source": [
    "# a = 10, b = 20\n",
    "# Logical AND\n",
    "a = int(input())\n",
    "b = int(input())\n",
    "# if a<b and a<30 and b>5 and a==a and 100>50:\n",
    "if a<b and a<30 and b>5:\n",
    "    print(\"True\")\n",
    "else:\n",
    "    print(\"False\")"
   ]
  },
  {
   "cell_type": "code",
   "execution_count": 7,
   "metadata": {},
   "outputs": [
    {
     "name": "stdout",
     "output_type": "stream",
     "text": [
      "10\n",
      "20\n",
      "True\n"
     ]
    }
   ],
   "source": [
    "# a = 10, b = 20\n",
    "# Logical OR\n",
    "a = int(input())\n",
    "b = int(input())\n",
    "# if a<b or a<30 or b>5 or a==a or 100>50:\n",
    "if a==b or a>b or a<2 or :\n",
    "    print(\"True\")\n",
    "else:\n",
    "    print(\"False\")"
   ]
  },
  {
   "cell_type": "code",
   "execution_count": 8,
   "metadata": {},
   "outputs": [
    {
     "name": "stdout",
     "output_type": "stream",
     "text": [
      "23\n",
      "41\n",
      "True\n"
     ]
    }
   ],
   "source": [
    "# a = 10, b = 20\n",
    "# Logical NOT\n",
    "a = int(input())\n",
    "b = int(input())\n",
    "#if (!(a==b) or a!=b):\n",
    "if not(a==b):\n",
    "    print(\"True\")\n",
    "else:\n",
    "    print(\"False\")"
   ]
  },
  {
   "cell_type": "code",
   "execution_count": 13,
   "metadata": {},
   "outputs": [
    {
     "name": "stdout",
     "output_type": "stream",
     "text": [
      "True\n"
     ]
    }
   ],
   "source": [
    "a=20\n",
    "b=80\n",
    "c=50\n",
    "\n",
    "if (a<b and a>5) or (50==c and not(a!=b)):\n",
    "    print(\"True\")\n",
    "else:\n",
    "    print(\"False\")"
   ]
  },
  {
   "cell_type": "markdown",
   "metadata": {},
   "source": [
    "# bitwise operators\n",
    "\n",
    "### and (&)\n",
    "\n",
    "### or (|)\n",
    "\n",
    "### xor (^)\n",
    "\n",
    "### not (~)\n",
    "\n",
    "### RightShift (>>)\n",
    "### LeftShift (<<)\n",
    "\n",
    "a   b   &   |   ^   ~   \n",
    "\n",
    "1   0   0   1   1   0\n",
    "\n",
    "1   1   1   1   0   1\n",
    "\n",
    "0   0   0   0   0   1\n",
    "\n",
    "0   1   0   1   1   0"
   ]
  },
  {
   "cell_type": "code",
   "execution_count": 18,
   "metadata": {},
   "outputs": [
    {
     "name": "stdout",
     "output_type": "stream",
     "text": [
      "0b110010\n",
      "0x14\n",
      "0o36\n",
      "110010\n"
     ]
    }
   ],
   "source": [
    "print(bin(50))\n",
    "print(hex(20))\n",
    "print(oct(30))\n",
    "print(int(110010))"
   ]
  },
  {
   "cell_type": "code",
   "execution_count": 24,
   "metadata": {},
   "outputs": [
    {
     "name": "stdout",
     "output_type": "stream",
     "text": [
      "16\n",
      "54\n",
      "38\n",
      "-51\n",
      "12\n",
      "200\n"
     ]
    }
   ],
   "source": [
    "a=50\n",
    "b=20\n",
    "c=a&b\n",
    "print(c)\n",
    "d=a|b\n",
    "print(d)\n",
    "e=a^b\n",
    "print(e)\n",
    "f=~a\n",
    "# (-n+1)\n",
    "print(f)\n",
    "\n",
    "g=a>>2\n",
    "print(g)\n",
    "\n",
    "h=a<<2\n",
    "print(h)\n"
   ]
  },
  {
   "cell_type": "markdown",
   "metadata": {},
   "source": [
    "### Assignment Operators\n",
    "\n",
    " += ,\n",
    " \n",
    " -= ,\n",
    " \n",
    " *= ,\n",
    " \n",
    " /= ,\n",
    " \n",
    " %="
   ]
  },
  {
   "cell_type": "code",
   "execution_count": 25,
   "metadata": {},
   "outputs": [
    {
     "name": "stdout",
     "output_type": "stream",
     "text": [
      "70\n",
      "50\n",
      "1000\n",
      "50.0\n",
      "10.0\n"
     ]
    }
   ],
   "source": [
    "a=50\n",
    "b=20\n",
    "\n",
    "a+=b\n",
    "print(a)\n",
    "a-=b\n",
    "print(a)\n",
    "a*=b\n",
    "print(a)\n",
    "a/=b\n",
    "print(a)\n",
    "a%=b\n",
    "print(a)"
   ]
  },
  {
   "cell_type": "markdown",
   "metadata": {},
   "source": [
    "# Conditional Statements\n",
    "\n",
    "## if\n",
    "    if(condition):\n",
    "        statements\n",
    "\n",
    "## if - else\n",
    "    if(condition):\n",
    "        statements\n",
    "    else:\n",
    "        statements\n",
    "        \n",
    "\n",
    "## if - elif - else\n",
    "    if(condition):\n",
    "        statements\n",
    "    elif(condition):\n",
    "        statements\n",
    "    else:\n",
    "        statements"
   ]
  },
  {
   "cell_type": "code",
   "execution_count": 6,
   "metadata": {},
   "outputs": [
    {
     "name": "stdout",
     "output_type": "stream",
     "text": [
      "5\n",
      "hello integer value\n"
     ]
    }
   ],
   "source": [
    "# type function\n",
    "\n",
    "a=int(input())\n",
    "\n",
    "if(type(a)==int):\n",
    "    print(\"hello integer value\")"
   ]
  },
  {
   "cell_type": "code",
   "execution_count": 9,
   "metadata": {},
   "outputs": [
    {
     "name": "stdout",
     "output_type": "stream",
     "text": [
      "True\n",
      "hello\n"
     ]
    }
   ],
   "source": [
    "string = '15460'\n",
    "print(string.isdigit()) \n",
    "   \n",
    "if string.isdigit()==True:\n",
    "    print(\"hello\")"
   ]
  },
  {
   "cell_type": "code",
   "execution_count": 10,
   "metadata": {},
   "outputs": [
    {
     "name": "stdout",
     "output_type": "stream",
     "text": [
      "a is less than b\n"
     ]
    }
   ],
   "source": [
    "a=5\n",
    "b=10\n",
    "\n",
    "if a<b:\n",
    "    print(\"a is less than b\")\n",
    "elif a>b:\n",
    "    print(\"a is greater than b\")\n",
    "else:\n",
    "    print(\"a is equals to b\")"
   ]
  },
  {
   "cell_type": "code",
   "execution_count": 12,
   "metadata": {},
   "outputs": [
    {
     "name": "stdout",
     "output_type": "stream",
     "text": [
      "a is greater than b\n"
     ]
    }
   ],
   "source": [
    "a=15\n",
    "b=10\n",
    "\n",
    "if a<b:\n",
    "    print(\"a is less than b\")\n",
    "else:\n",
    "    print(\"a is greater than b\")"
   ]
  },
  {
   "cell_type": "code",
   "execution_count": null,
   "metadata": {},
   "outputs": [],
   "source": [
    "l"
   ]
  }
 ],
 "metadata": {
  "kernelspec": {
   "display_name": "Python 3",
   "language": "python",
   "name": "python3"
  },
  "language_info": {
   "codemirror_mode": {
    "name": "ipython",
    "version": 3
   },
   "file_extension": ".py",
   "mimetype": "text/x-python",
   "name": "python",
   "nbconvert_exporter": "python",
   "pygments_lexer": "ipython3",
   "version": "3.7.3"
  }
 },
 "nbformat": 4,
 "nbformat_minor": 2
}
