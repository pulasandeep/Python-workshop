{
 "cells": [
  {
   "cell_type": "markdown",
   "metadata": {},
   "source": [
    "# Objectives\n",
    "\n",
    "## tuples\n",
    "## sets\n",
    "## dictionaries\n",
    "## modules & packages\n",
    "## files\n",
    "## data science\n",
    "    ~ numpy\n",
    "    ~ pandas\n",
    "    ~ matplot\n",
    "    ~ seaborn"
   ]
  },
  {
   "cell_type": "markdown",
   "metadata": {},
   "source": [
    "### List comprehension"
   ]
  },
  {
   "cell_type": "code",
   "execution_count": 3,
   "metadata": {},
   "outputs": [
    {
     "data": {
      "text/plain": [
       "[2, 4, 6, 8, 10, 12, 14, 16, 18]"
      ]
     },
     "execution_count": 3,
     "metadata": {},
     "output_type": "execute_result"
    }
   ],
   "source": [
    "# Even numbers\n",
    "list1=[i for i in range(1,20) if(i%2==0)]\n",
    "list1"
   ]
  },
  {
   "cell_type": "code",
   "execution_count": 4,
   "metadata": {},
   "outputs": [
    {
     "name": "stdout",
     "output_type": "stream",
     "text": [
      "[2, 4, 6, 8, 10, 12, 14, 16, 18]\n"
     ]
    }
   ],
   "source": [
    "li=[]\n",
    "for i in range(1,20):\n",
    "    if(i%2==0):\n",
    "        li.append(i)\n",
    "print(li)"
   ]
  },
  {
   "cell_type": "code",
   "execution_count": 5,
   "metadata": {},
   "outputs": [
    {
     "data": {
      "text/plain": [
       "[1, 3, 5, 7, 9, 11, 13, 15, 17, 19]"
      ]
     },
     "execution_count": 5,
     "metadata": {},
     "output_type": "execute_result"
    }
   ],
   "source": [
    "# Odd numbers\n",
    "list2=[i for i in range(1,20) if(i%2==1)]\n",
    "list2"
   ]
  },
  {
   "cell_type": "code",
   "execution_count": 6,
   "metadata": {},
   "outputs": [],
   "source": [
    "# Prime numbers\n",
    "def isprime(n):\n",
    "    c=0\n",
    "    for i in range(1,n+1):\n",
    "        if(n%i==0):\n",
    "            c=c+1\n",
    "    if(c==2):\n",
    "        return True\n",
    "    "
   ]
  },
  {
   "cell_type": "code",
   "execution_count": 7,
   "metadata": {},
   "outputs": [
    {
     "data": {
      "text/plain": [
       "[2, 3, 5, 7, 11, 13, 17, 19, 23, 29, 31, 37, 41, 43, 47]"
      ]
     },
     "execution_count": 7,
     "metadata": {},
     "output_type": "execute_result"
    }
   ],
   "source": [
    "prime_list=[i for i in range(1,50) if(isprime(i))]\n",
    "prime_list"
   ]
  },
  {
   "cell_type": "code",
   "execution_count": 8,
   "metadata": {},
   "outputs": [
    {
     "name": "stdout",
     "output_type": "stream",
     "text": [
      "leap year\n"
     ]
    }
   ],
   "source": [
    "# # Leap year\n",
    "# Any year which is divisible by 4 and not by 100 are leap years. Otherwise, \n",
    "# any year which is divisible by 400 is also a leap year.\n",
    "\n",
    "\n",
    "n=2020\n",
    "\n",
    "if(n%4==0 and n%100!=0):\n",
    "    print('leap year')\n",
    "elif(n%400==0):\n",
    "    print('leap year')\n",
    "else:\n",
    "    print('not a leap year')"
   ]
  },
  {
   "cell_type": "code",
   "execution_count": 9,
   "metadata": {},
   "outputs": [
    {
     "data": {
      "text/plain": [
       "[2000, 2004, 2008, 2012, 2016, 2020, 2024, 2028, 2032, 2036, 2040, 2044, 2048]"
      ]
     },
     "execution_count": 9,
     "metadata": {},
     "output_type": "execute_result"
    }
   ],
   "source": [
    "def is_leap(n):\n",
    "    if(n%4==0 and n%100!=0):\n",
    "        return True\n",
    "    elif(n%400==0):\n",
    "        return True\n",
    "    \n",
    "leap_list=[leap for leap in range(2000,2050) if(is_leap(leap))]\n",
    "leap_list"
   ]
  },
  {
   "cell_type": "markdown",
   "metadata": {},
   "source": [
    "## Tuple"
   ]
  },
  {
   "cell_type": "code",
   "execution_count": 12,
   "metadata": {},
   "outputs": [
    {
     "data": {
      "text/plain": [
       "['__add__',\n",
       " '__class__',\n",
       " '__contains__',\n",
       " '__delattr__',\n",
       " '__dir__',\n",
       " '__doc__',\n",
       " '__eq__',\n",
       " '__format__',\n",
       " '__ge__',\n",
       " '__getattribute__',\n",
       " '__getitem__',\n",
       " '__getnewargs__',\n",
       " '__gt__',\n",
       " '__hash__',\n",
       " '__init__',\n",
       " '__init_subclass__',\n",
       " '__iter__',\n",
       " '__le__',\n",
       " '__len__',\n",
       " '__lt__',\n",
       " '__mul__',\n",
       " '__ne__',\n",
       " '__new__',\n",
       " '__reduce__',\n",
       " '__reduce_ex__',\n",
       " '__repr__',\n",
       " '__rmul__',\n",
       " '__setattr__',\n",
       " '__sizeof__',\n",
       " '__str__',\n",
       " '__subclasshook__',\n",
       " 'count',\n",
       " 'index']"
      ]
     },
     "execution_count": 12,
     "metadata": {},
     "output_type": "execute_result"
    }
   ],
   "source": [
    "dir(tuple)"
   ]
  },
  {
   "cell_type": "code",
   "execution_count": 13,
   "metadata": {},
   "outputs": [
    {
     "data": {
      "text/plain": [
       "(2, 3, 5, 7, 11, 13, 17, 19, 23, 29, 31, 37, 41, 43, 47)"
      ]
     },
     "execution_count": 13,
     "metadata": {},
     "output_type": "execute_result"
    }
   ],
   "source": [
    "tup_prime=tuple(prime_list)\n",
    "tup_prime"
   ]
  },
  {
   "cell_type": "code",
   "execution_count": 14,
   "metadata": {},
   "outputs": [
    {
     "data": {
      "text/plain": [
       "1"
      ]
     },
     "execution_count": 14,
     "metadata": {},
     "output_type": "execute_result"
    }
   ],
   "source": [
    "tup_prime.count(3)"
   ]
  },
  {
   "cell_type": "code",
   "execution_count": 16,
   "metadata": {},
   "outputs": [
    {
     "data": {
      "text/plain": [
       "6"
      ]
     },
     "execution_count": 16,
     "metadata": {},
     "output_type": "execute_result"
    }
   ],
   "source": [
    "tup_prime.index(17)"
   ]
  },
  {
   "cell_type": "markdown",
   "metadata": {},
   "source": [
    "### conversions\n",
    "\n",
    "    list to tuple             possible\n",
    "    tuple to list             possible\n",
    "    tuple to set              possible\n",
    "    set to tuple              possible\n",
    "    tuple to dictionary       not possible\n",
    "    dictionary to tuple       not possible"
   ]
  },
  {
   "cell_type": "markdown",
   "metadata": {},
   "source": [
    "# Sets\n",
    "\n",
    "## dir(set)\n",
    "add','clear','copy','difference','difference_update','discard','intersection',\n",
    "'intersection_update','isdisjoint','issubset','issuperset','pop','remove','symmetric_difference',\n",
    "'symmetric_difference_update','union','update'"
   ]
  },
  {
   "cell_type": "code",
   "execution_count": 24,
   "metadata": {},
   "outputs": [
    {
     "name": "stdout",
     "output_type": "stream",
     "text": [
      "{2, 3, 5, 37, 7, 41, 11, 43, 13, 47, 17, 19, 23, 29, 31}\n"
     ]
    }
   ],
   "source": [
    "st_prime=set(tup_prime)\n",
    "print(st_prime)"
   ]
  },
  {
   "cell_type": "code",
   "execution_count": 25,
   "metadata": {},
   "outputs": [
    {
     "data": {
      "text/plain": [
       "{2, 3, 5, 7, 11, 13, 17, 19, 23, 29, 31, 37, 41, 43, 47}"
      ]
     },
     "execution_count": 25,
     "metadata": {},
     "output_type": "execute_result"
    }
   ],
   "source": [
    "st_prime.update()\n",
    "st_prime"
   ]
  },
  {
   "cell_type": "code",
   "execution_count": 39,
   "metadata": {},
   "outputs": [
    {
     "name": "stdout",
     "output_type": "stream",
     "text": [
      "union is :  {1, 2, 3, 4, 5, 6, 7, 8}\n",
      "intersection is :  {4}\n",
      "is subset ? :  True\n"
     ]
    }
   ],
   "source": [
    "st={1,2,3,4}\n",
    "s={4,5,6,7,8}\n",
    "a={2,1}\n",
    "print('union is : ',st.union(s))\n",
    "print('intersection is : ',st.intersection(s))\n",
    "print('is subset ? : ',a.issubset(st))\n",
    "s.update?"
   ]
  },
  {
   "cell_type": "code",
   "execution_count": 40,
   "metadata": {},
   "outputs": [
    {
     "data": {
      "text/plain": [
       "30"
      ]
     },
     "execution_count": 40,
     "metadata": {},
     "output_type": "execute_result"
    }
   ],
   "source": [
    "sum(s)"
   ]
  },
  {
   "cell_type": "code",
   "execution_count": 51,
   "metadata": {},
   "outputs": [
    {
     "data": {
      "text/plain": [
       "(6, 5, 4, 5, 6, 4, 4, 8, 9)"
      ]
     },
     "execution_count": 51,
     "metadata": {},
     "output_type": "execute_result"
    }
   ],
   "source": [
    "data='654564489'\n",
    "data=tuple(data)\n",
    "data=tuple(map(int,data))\n",
    "data"
   ]
  },
  {
   "cell_type": "code",
   "execution_count": 52,
   "metadata": {},
   "outputs": [
    {
     "name": "stdout",
     "output_type": "stream",
     "text": [
      "545615\n",
      "('5', '4', '5', '6', '1', '5')\n",
      "5 ---> 3\n",
      "4 ---> 1\n",
      "6 ---> 1\n",
      "1 ---> 1\n"
     ]
    }
   ],
   "source": [
    "data=tuple(map(str,tuple(input())))\n",
    "print(data)\n",
    "data_ori=[]\n",
    "for value in data:\n",
    "    if(value not in data_ori):\n",
    "        data_ori.append(value)\n",
    "data_ori=tuple(data_ori)\n",
    "for value in data_ori:\n",
    "    print(value,\"--->\",data.count(value))\n",
    "        "
   ]
  },
  {
   "cell_type": "code",
   "execution_count": 58,
   "metadata": {},
   "outputs": [
    {
     "name": "stdout",
     "output_type": "stream",
     "text": [
      "set :  {1, 2, 3, 4, 5, 9, 45, 25}\n",
      "tuple : (1, 2, 3, 5, 4, 2, 5, 5, 5, 45, 5, 9, 25, 45, 4)\n"
     ]
    }
   ],
   "source": [
    "# set() doesnt have duplicate values\n",
    "l1=[1,2,3,5,4,2,5,5,5,45,5,9,25,45,4,]\n",
    "l2=set(l1)\n",
    "print('set : ',l2)\n",
    "l3=tuple(l1)\n",
    "print('tuple :',l3)"
   ]
  },
  {
   "cell_type": "markdown",
   "metadata": {},
   "source": [
    "# dictionary\n",
    "\n",
    "### stored as (key,value) pairs\n",
    "\n",
    "dir(dict)\n",
    "\n",
    "    clear',\n",
    "     'copy',\n",
    "     'fromkeys',\n",
    "     'get',\n",
    "     'items',\n",
    "     'keys',\n",
    "     'pop',\n",
    "     'popitem',\n",
    "     'setdefault',\n",
    "     'update',\n",
    "     'values"
   ]
  },
  {
   "cell_type": "code",
   "execution_count": 60,
   "metadata": {},
   "outputs": [
    {
     "data": {
      "text/plain": [
       "{'1': 'vijat', '2': 'sahara'}"
      ]
     },
     "execution_count": 60,
     "metadata": {},
     "output_type": "execute_result"
    }
   ],
   "source": [
    "data={'1':'vijat','2':'sahara'}\n",
    "data"
   ]
  },
  {
   "cell_type": "code",
   "execution_count": 72,
   "metadata": {},
   "outputs": [
    {
     "name": "stdout",
     "output_type": "stream",
     "text": [
      "{1: None, 2: None}\n",
      "vijat\n",
      "dict_items([('1', 'vijat'), ('2', 'sahara')])\n",
      "<built-in method keys of dict object at 0x000001D8D0F875A0>\n"
     ]
    }
   ],
   "source": [
    "a=data.fromkeys([1,2])\n",
    "print(a)\n",
    "\n",
    "print(data.get('1'))\n",
    "\n",
    "print(data.items())"
   ]
  },
  {
   "cell_type": "code",
   "execution_count": 79,
   "metadata": {},
   "outputs": [
    {
     "name": "stdout",
     "output_type": "stream",
     "text": [
      "1 ---> vijat\n",
      "2 ---> sahara\n",
      "dict_keys(['1', '2'])\n",
      "dict_values(['vijat', 'sahara'])\n"
     ]
    }
   ],
   "source": [
    "for key,value in data.items():\n",
    "    print(key,'--->',value)\n",
    "    \n",
    "print(data.keys())\n",
    "print(data.values())\n",
    "# data.popitem() last data is removed\n"
   ]
  },
  {
   "cell_type": "markdown",
   "metadata": {},
   "source": [
    "# contact information\n",
    "\n",
    "### store\n",
    "    name\n",
    "    number\n",
    "    --> rules:\n",
    "        name already exists\n",
    "### display\n",
    "    name\n",
    "    number\n",
    "    --> rules:\n",
    "        number not exists\n",
    "        \n",
    "### search\n",
    "    name\n",
    "    number\n",
    "    --> rules:\n",
    "        number not exists\n",
    "        \n",
    "### delete\n",
    "    name\n",
    "    --> rules:\n",
    "        number not exists"
   ]
  },
  {
   "cell_type": "code",
   "execution_count": 2,
   "metadata": {},
   "outputs": [],
   "source": [
    "contact_application={}\n",
    "def store(name,number):\n",
    "    if (name not in contact_application):\n",
    "        contact_application.setdefault(name,number)\n",
    "        print(\"contact saved!\")\n",
    "    else:\n",
    "        print('Name already exists in contacts')\n",
    "        \n",
    "        \n",
    "def display():\n",
    "    if(len(contact_application)!=0):\n",
    "        for i,j in contact_application.items():\n",
    "            print(i,j)\n",
    "    else:\n",
    "        print(\"empty contacts\")\n",
    "\n",
    "        \n",
    "def delete(name):\n",
    "    if(name not in contact_application.keys()):\n",
    "        print(\"name not found!\")\n",
    "    else:\n",
    "        contact_application.pop(name)\n",
    "        print('contact deleted.')\n",
    "        \n",
    "        \n",
    "def search(name):\n",
    "    if(name not in contact_application.keys()):\n",
    "        print(name,\"contact exists\")\n",
    "    else:\n",
    "        print(name,'contact doesnt exists')\n",
    "\n",
    "    "
   ]
  },
  {
   "cell_type": "code",
   "execution_count": 3,
   "metadata": {
    "scrolled": true
   },
   "outputs": [
    {
     "name": "stdout",
     "output_type": "stream",
     "text": [
      "contact saved!\n",
      "contact saved!\n",
      "contact saved!\n",
      "contact saved!\n",
      "{'sad': 5684, 'sai': 5454, 'say': 5244, 'dec': 4784}\n",
      "sad 5684\n",
      "sai 5454\n",
      "say 5244\n",
      "dec 4784\n",
      "sai contact doesnt exists\n",
      "contact deleted.\n"
     ]
    }
   ],
   "source": [
    "store('sad',5684)\n",
    "store('sai',5454)\n",
    "store('say',5244)\n",
    "store('dec',4784)\n",
    "print(contact_application)\n",
    "display()\n",
    "search('sai')\n",
    "delete('sai')\n"
   ]
  },
  {
   "cell_type": "code",
   "execution_count": 4,
   "metadata": {},
   "outputs": [
    {
     "name": "stdout",
     "output_type": "stream",
     "text": [
      "33\n"
     ]
    }
   ],
   "source": [
    "import random\n",
    "print(random.randrange(0,50))"
   ]
  },
  {
   "cell_type": "markdown",
   "metadata": {},
   "source": [
    "    1 --> \n",
    "    2 -->\n",
    "    3 -->\n",
    "    4 -->\n",
    "    5 -->"
   ]
  },
  {
   "cell_type": "code",
   "execution_count": 6,
   "metadata": {},
   "outputs": [
    {
     "name": "stdout",
     "output_type": "stream",
     "text": [
      "choose options\n",
      "1.store\n",
      "2.delete\n",
      "3.search\n",
      "4.display\n",
      "5.exit5\n"
     ]
    }
   ],
   "source": [
    "while True:\n",
    "    n=int(input('choose options\\n1.store\\n2.delete\\n3.search\\n4.display\\n5.exit'))\n",
    "    if n==1:\n",
    "        name=input('enter name')\n",
    "        number=input('enter mobile number')\n",
    "        store(name,number)\n",
    "    elif n==2:\n",
    "        name=input('enter name')\n",
    "        delete(name)\n",
    "    elif n==3:\n",
    "        name=input('enter name')\n",
    "        search(name)\n",
    "    elif n==4:\n",
    "        display()\n",
    "    elif n==5:\n",
    "        break\n",
    "    else:\n",
    "        print('enter valid function')\n",
    "        \n",
    "        "
   ]
  },
  {
   "cell_type": "markdown",
   "metadata": {},
   "source": [
    "# Modules & Packages\n",
    "\n",
    "### Modules \n",
    "    python files\n",
    "### Packages\n",
    "    function defination"
   ]
  },
  {
   "cell_type": "code",
   "execution_count": 2,
   "metadata": {},
   "outputs": [
    {
     "name": "stdout",
     "output_type": "stream",
     "text": [
      "11\n",
      "-1\n",
      "30\n",
      "0.8333333333333334\n",
      "5\n",
      "0\n"
     ]
    }
   ],
   "source": [
    "import mypackage\n",
    "print(mypackage.addition(5,6))\n",
    "print(mypackage.subtraction(5,6))\n",
    "print(mypackage.multiplication(5,6))\n",
    "print(mypackage.division(5,6))\n",
    "print(mypackage.mod_division(5,6))\n",
    "print(mypackage.float_division(5,6))\n"
   ]
  },
  {
   "cell_type": "code",
   "execution_count": 5,
   "metadata": {},
   "outputs": [
    {
     "name": "stdout",
     "output_type": "stream",
     "text": [
      "7\n",
      "3\n",
      "10\n",
      "1\n",
      "2.5\n",
      "2\n"
     ]
    }
   ],
   "source": [
    "import mypackage as mp\n",
    "print(mp.addition(5,2))\n",
    "print(mp.subtraction(5,2))\n",
    "print(mp.multiplication(5,2))\n",
    "print(mp.mod_division(5,2))\n",
    "print(mp.division(5,2))\n",
    "print(mp.float_division(5,2))\n"
   ]
  },
  {
   "cell_type": "code",
   "execution_count": 7,
   "metadata": {},
   "outputs": [
    {
     "name": "stdout",
     "output_type": "stream",
     "text": [
      "11\n",
      "-1\n",
      "30\n",
      "0.8333333333333334\n",
      "5\n",
      "0\n"
     ]
    }
   ],
   "source": [
    "from mypackage import *\n",
    "print(addition(5,6))\n",
    "print(subtraction(5,6))\n",
    "print(multiplication(5,6))\n",
    "print(division(5,6))\n",
    "print(mod_division(5,6))\n",
    "print(float_division(5,6))"
   ]
  },
  {
   "cell_type": "code",
   "execution_count": 8,
   "metadata": {},
   "outputs": [
    {
     "data": {
      "text/plain": [
       "14"
      ]
     },
     "execution_count": 8,
     "metadata": {},
     "output_type": "execute_result"
    }
   ],
   "source": [
    "from mypackage import addition as add\n",
    "add(8,6)"
   ]
  },
  {
   "cell_type": "code",
   "execution_count": 12,
   "metadata": {},
   "outputs": [
    {
     "name": "stdout",
     "output_type": "stream",
     "text": [
      "Name already exists in contacts\n",
      "contact saved!\n",
      "Name already exists in contacts\n",
      "Name already exists in contacts\n",
      "{'sad': 5684, 'say': 5244, 'dec': 4784, 'sai': 5454}\n",
      "sad 5684\n",
      "say 5244\n",
      "dec 4784\n",
      "sai 5454\n",
      "sai contact doesnt exists\n",
      "contact deleted.\n"
     ]
    }
   ],
   "source": [
    "import contacts as c\n",
    "\n",
    "#from contacts import search,store,display,delete\n",
    "#from contacts import *\n",
    "#from clg.clss.cse as cs\n",
    "\n",
    "c.store('sad',5684)\n",
    "c.store('sai',5454)\n",
    "c.store('say',5244)\n",
    "c.store('dec',4784)\n",
    "print(c.contact_application)\n",
    "c.display()\n",
    "c.search('sai')\n",
    "c.delete('sai')\n"
   ]
  },
  {
   "cell_type": "markdown",
   "metadata": {},
   "source": [
    "### math\n",
    "\n",
    "    'acos', 'acosh', 'asin', 'asinh', 'atan', 'atan2', 'atanh', 'ceil', 'copysign',\n",
    "    'cos', 'cosh', 'degrees', 'e', 'erf', 'erfc', 'exp', 'expm1', 'fabs', 'factorial', \n",
    "    'floor', 'fmod', 'frexp', 'fsum', 'gamma', 'gcd', 'hypot', 'inf', 'isclose', \n",
    "    'isfinite', 'isinf', 'isnan', 'ldexp', 'lgamma', 'log', 'log10', 'log1p', 'log2', \n",
    "    'modf', 'nan', 'pi', 'pow', 'radians', 'remainder', 'sin', 'sinh', 'sqrt', 'tan', \n",
    "    'tanh', 'tau', 'trunc'"
   ]
  },
  {
   "cell_type": "code",
   "execution_count": null,
   "metadata": {},
   "outputs": [],
   "source": []
  },
  {
   "cell_type": "code",
   "execution_count": 4,
   "metadata": {},
   "outputs": [
    {
     "name": "stdout",
     "output_type": "stream",
     "text": [
      "25.0\n"
     ]
    }
   ],
   "source": [
    "import math as m\n",
    "print(m.pow(5,2))"
   ]
  },
  {
   "cell_type": "code",
   "execution_count": null,
   "metadata": {},
   "outputs": [],
   "source": []
  }
 ],
 "metadata": {
  "kernelspec": {
   "display_name": "Python 3",
   "language": "python",
   "name": "python3"
  }
 },
 "nbformat": 4,
 "nbformat_minor": 2
}
