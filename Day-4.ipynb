{
 "cells": [
  {
   "cell_type": "markdown",
   "metadata": {},
   "source": [
    "# Objectives\n",
    "### Strings\n",
    "### Functions\n",
    "### Lists\n",
    "### Tuples"
   ]
  },
  {
   "cell_type": "code",
   "execution_count": 1,
   "metadata": {},
   "outputs": [
    {
     "name": "stdout",
     "output_type": "stream",
     "text": [
      "97\n",
      "a\n",
      "0 --> \u0000\n",
      "1 --> \u0001\n",
      "2 --> \u0002\n",
      "3 --> \u0003\n",
      "4 --> \u0004\n",
      "5 --> \u0005\n",
      "6 --> \u0006\n",
      "7 --> \u0007\n",
      "8 --> \b\n",
      "9 --> \t\n",
      "10 --> \n",
      "\n",
      "11 --> \u000b",
      "\n",
      "12 --> \f",
      "\n",
      "13 --> \r\n",
      "14 --> \u000e\n",
      "15 --> \u000f\n",
      "16 --> \u0010\n",
      "17 --> \u0011\n",
      "18 --> \u0012\n",
      "19 --> \u0013\n",
      "20 --> \u0014\n",
      "21 --> \u0015\n",
      "22 --> \u0016\n",
      "23 --> \u0017\n",
      "24 --> \u0018\n",
      "25 --> \u0019\n",
      "26 --> \u001a\n",
      "27 --> \u001b\n",
      "28 --> \u001c",
      "\n",
      "29 --> \u001d",
      "\n",
      "30 --> \u001e",
      "\n",
      "31 --> \u001f\n",
      "32 -->  \n",
      "33 --> !\n",
      "34 --> \"\n",
      "35 --> #\n",
      "36 --> $\n",
      "37 --> %\n",
      "38 --> &\n",
      "39 --> '\n",
      "40 --> (\n",
      "41 --> )\n",
      "42 --> *\n",
      "43 --> +\n",
      "44 --> ,\n",
      "45 --> -\n",
      "46 --> .\n",
      "47 --> /\n",
      "48 --> 0\n",
      "49 --> 1\n",
      "50 --> 2\n",
      "51 --> 3\n",
      "52 --> 4\n",
      "53 --> 5\n",
      "54 --> 6\n",
      "55 --> 7\n",
      "56 --> 8\n",
      "57 --> 9\n",
      "58 --> :\n",
      "59 --> ;\n",
      "60 --> <\n",
      "61 --> =\n",
      "62 --> >\n",
      "63 --> ?\n",
      "64 --> @\n",
      "65 --> A\n",
      "66 --> B\n",
      "67 --> C\n",
      "68 --> D\n",
      "69 --> E\n",
      "70 --> F\n",
      "71 --> G\n",
      "72 --> H\n",
      "73 --> I\n",
      "74 --> J\n",
      "75 --> K\n",
      "76 --> L\n",
      "77 --> M\n",
      "78 --> N\n",
      "79 --> O\n",
      "80 --> P\n",
      "81 --> Q\n",
      "82 --> R\n",
      "83 --> S\n",
      "84 --> T\n",
      "85 --> U\n",
      "86 --> V\n",
      "87 --> W\n",
      "88 --> X\n",
      "89 --> Y\n",
      "90 --> Z\n",
      "91 --> [\n",
      "92 --> \\\n",
      "93 --> ]\n",
      "94 --> ^\n",
      "95 --> _\n",
      "96 --> `\n",
      "97 --> a\n",
      "98 --> b\n",
      "99 --> c\n",
      "100 --> d\n",
      "101 --> e\n",
      "102 --> f\n",
      "103 --> g\n",
      "104 --> h\n",
      "105 --> i\n",
      "106 --> j\n",
      "107 --> k\n",
      "108 --> l\n",
      "109 --> m\n",
      "110 --> n\n",
      "111 --> o\n",
      "112 --> p\n",
      "113 --> q\n",
      "114 --> r\n",
      "115 --> s\n",
      "116 --> t\n",
      "117 --> u\n",
      "118 --> v\n",
      "119 --> w\n",
      "120 --> x\n",
      "121 --> y\n",
      "122 --> z\n",
      "123 --> {\n",
      "124 --> |\n"
     ]
    }
   ],
   "source": [
    "# ascii values\n",
    "print(ord('a'))\n",
    "print(chr(97))\n",
    "\n",
    "for i in range(125):\n",
    "    print(i,\"-->\",chr(i))"
   ]
  },
  {
   "cell_type": "code",
   "execution_count": 2,
   "metadata": {},
   "outputs": [
    {
     "name": "stdout",
     "output_type": "stream",
     "text": [
      "a\n",
      "A\n"
     ]
    }
   ],
   "source": [
    "var='A'\n",
    "print(chr(ord(var)+32))\n",
    "\n",
    "var='a'\n",
    "print(chr(ord(var)-32))"
   ]
  },
  {
   "cell_type": "code",
   "execution_count": 3,
   "metadata": {
    "scrolled": true
   },
   "outputs": [
    {
     "name": "stdout",
     "output_type": "stream",
     "text": [
      "s\n",
      "y\n",
      "t\n",
      "h\n",
      "o\n",
      "n\n",
      "\n",
      "s\n",
      "y\n",
      "t\n",
      "h\n",
      "o\n",
      "n\n"
     ]
    }
   ],
   "source": [
    "s='sython'\n",
    "for ch in s:\n",
    "    print(ch)\n",
    "print(\"\")    \n",
    "for i in range(len(s)):\n",
    "    print(s[i])\n"
   ]
  },
  {
   "cell_type": "code",
   "execution_count": 4,
   "metadata": {},
   "outputs": [
    {
     "name": "stdout",
     "output_type": "stream",
     "text": [
      "Python programming\n"
     ]
    }
   ],
   "source": [
    "s=\"python programming\"\n",
    "print(s[0].upper()+s[1:].lower())"
   ]
  },
  {
   "cell_type": "code",
   "execution_count": 5,
   "metadata": {},
   "outputs": [
    {
     "data": {
      "text/plain": [
       "'Python programming'"
      ]
     },
     "execution_count": 5,
     "metadata": {},
     "output_type": "execute_result"
    }
   ],
   "source": [
    "s1=''\n",
    "s[-(len(s))]\n",
    "s1=s1+chr(ord(s[0])-32)\n",
    "\n",
    "for i in range(1,len(s)):\n",
    "    s1=s1+s[i]\n",
    "    \n",
    "s1\n",
    "\n",
    "# s1=s1+s[1:]\n",
    "# print(s1)\n",
    "\n"
   ]
  },
  {
   "cell_type": "code",
   "execution_count": 6,
   "metadata": {},
   "outputs": [
    {
     "name": "stdout",
     "output_type": "stream",
     "text": [
      "['__add__', '__class__', '__contains__', '__delattr__', '__dir__', '__doc__', '__eq__', '__format__', '__ge__', '__getattribute__', '__getitem__', '__getnewargs__', '__gt__', '__hash__', '__init__', '__init_subclass__', '__iter__', '__le__', '__len__', '__lt__', '__mod__', '__mul__', '__ne__', '__new__', '__reduce__', '__reduce_ex__', '__repr__', '__rmod__', '__rmul__', '__setattr__', '__sizeof__', '__str__', '__subclasshook__', 'capitalize', 'casefold', 'center', 'count', 'encode', 'endswith', 'expandtabs', 'find', 'format', 'format_map', 'index', 'isalnum', 'isalpha', 'isascii', 'isdecimal', 'isdigit', 'isidentifier', 'islower', 'isnumeric', 'isprintable', 'isspace', 'istitle', 'isupper', 'join', 'ljust', 'lower', 'lstrip', 'maketrans', 'partition', 'replace', 'rfind', 'rindex', 'rjust', 'rpartition', 'rsplit', 'rstrip', 'split', 'splitlines', 'startswith', 'strip', 'swapcase', 'title', 'translate', 'upper', 'zfill']\n"
     ]
    }
   ],
   "source": [
    "print(dir(str))"
   ]
  },
  {
   "cell_type": "markdown",
   "metadata": {},
   "source": [
    "## Major topics to be discussed\n",
    "'capitalize', 'casefold', 'center', 'count', 'encode', 'endswith', 'expandtabs', 'find', 'format', 'format_map', 'index', 'isalnum', 'isalpha', 'isascii', 'isdecimal', 'isdigit', 'isidentifier', 'islower', 'isnumeric', 'isprintable', 'isspace', 'istitle', 'isupper', 'join', 'ljust', 'lower', 'lstrip', 'maketrans', 'partition', 'replace', 'rfind', 'rindex', 'rjust', 'rpartition', 'rsplit', 'rstrip', 'split', 'splitlines', 'startswith', 'strip', 'swapcase', 'title', 'translate', 'upper', 'zfill'"
   ]
  },
  {
   "cell_type": "code",
   "execution_count": 7,
   "metadata": {
    "scrolled": false
   },
   "outputs": [
    {
     "name": "stdout",
     "output_type": "stream",
     "text": [
      "Apssdc\n",
      "python programing is lovable\n",
      "****PYTHON PROGRAMING is lovable***\n",
      "2\n",
      "b'PYTHON PROGRAMING is lovable'\n",
      "PYTHON PROGRAMING is lovable\n",
      "True\n",
      "True\n",
      "abc     1234    xyz\n",
      "1\n",
      "my name is george of age 25 and iam a leader\n",
      "my name is george of age 25 and iam a leader\n",
      "my name is george of age 25 and iam a leader\n",
      "1\n",
      "False\n",
      "True\n",
      "True\n",
      "False\n",
      "False\n",
      "True\n",
      "False\n",
      "True\n",
      "False\n",
      "True\n",
      "True\n",
      "False\n",
      "SpythonYpythonTpythonHpythonOpythonN\n",
      "S Y T H O N\n",
      "S[]Y[]T[]H[]O[]N\n",
      "banana               is my favorite fruit.\n",
      "python programing is lovable\n",
      "PYTHON PROGRAMING IS LOVABLE\n",
      "of all fruits banana is my favorite\n",
      "{97: 49, 101: 50, 105: 51, 111: 52, 117: 53}\n",
      "pytHON PROGRAMING is lovable\n",
      "1\n",
      "['hello', 'world']\n",
      "24\n",
      "^^^^^^^^^^^^^^^^^^^^^^PYTHON PROGRAMING is lovable\n",
      "('PYTHON PROGRAMING ', 'i', 's lovable')\n",
      "HON PROGRAMING is lovable\n",
      "HeLlO\n",
      "000000000000PYTHON PROGRAMING is lovable\n"
     ]
    }
   ],
   "source": [
    "# capitalize\n",
    "s='apssdc'\n",
    "print(s.capitalize())\n",
    "\n",
    "# casefold\n",
    "a=\"PYTHON PROGRAMING is lovable\"\n",
    "print(a.casefold())\n",
    "\n",
    "# center\n",
    "print(a.center(35,'*'))\n",
    "\n",
    "# count\n",
    "print(a.count('P'))\n",
    "\n",
    "# encode\n",
    "s2=a.encode()\n",
    "print(s2)\n",
    "print(s2.decode())\n",
    "\n",
    "# endswith\n",
    "print(a.endswith('e'))\n",
    "\n",
    "# startswith\n",
    "print(a.startswith('P'))\n",
    "\n",
    "# expandtabs\n",
    "s2=\"abc\\t1234\\txyz\"\n",
    "print(s2.expandtabs())\n",
    "\n",
    "# find\n",
    "\n",
    "print(a.find('Y'))\n",
    "\n",
    "# format\n",
    "name=\"george\"\n",
    "role='leader'\n",
    "age='25'\n",
    "print(f\"my name is {name} of age {age} and iam a {role}\")\n",
    "print(\"my name is {} of age {} and iam a {}\".format(name,age,role))\n",
    "print(\"my name is {x} of age {y} and iam a {z}\".format(x=name,y=age,z=role))\n",
    "\n",
    "# index\n",
    "print(a.index('Y'))\n",
    "\n",
    "# isalnum\n",
    "print(a.isalnum())\n",
    "\n",
    "# isalpha\n",
    "print(a[1].isalpha())\n",
    "\n",
    "# isascii\n",
    "print(a[1].isascii())\n",
    "\n",
    "# isdecimal\n",
    "print(a[1].isdecimal())\n",
    "\n",
    "# isdigit\n",
    "print(a[1].isdigit())\n",
    "\n",
    "# isidentifier\n",
    "print(a[21].isidentifier())\n",
    "\n",
    "# islower\n",
    "print(a[1].islower())\n",
    "\n",
    "# isupper\n",
    "print(a[1].isupper())\n",
    "\n",
    "# isnumeric\n",
    "print(a[2].isnumeric())\n",
    "\n",
    "# isprintable\n",
    "print(a.isprintable())\n",
    "\n",
    "# isspace\n",
    "print(a[6].isspace())\n",
    "\n",
    "# istitle\n",
    "print(a.istitle())\n",
    "\n",
    "# join used to join 2 strings\n",
    "x=\"python\"\n",
    "y=\"SYTHON\"\n",
    "print(x.join(y))\n",
    "print(' '.join(y))\n",
    "print('[]'.join(y))\n",
    "\n",
    "# ljust\n",
    "txt = \"banana\"\n",
    "xy = txt.ljust(20)\n",
    "print(xy, \"is my favorite fruit.\")\n",
    "\n",
    "# lower\n",
    "print(a.lower())\n",
    "\n",
    "# upper\n",
    "print(a.upper())\n",
    "\n",
    "# lstrip\n",
    "txt =\"banana\"\n",
    "xy =txt.lstrip()\n",
    "print(\"of all fruits\",xy, \"is my favorite\")\n",
    "\n",
    "# maketrans\n",
    "l1='aeiou'\n",
    "l2='12345'\n",
    "print(a.maketrans(l1,l2))\n",
    "# partition similar to split\n",
    "\n",
    "# replace\n",
    "print(a.replace('PYT','pyt'))\n",
    "\n",
    "# rfind\n",
    "print(a.rfind(\"YTH\"))\n",
    "\n",
    "# split\n",
    "print('hello world'.split(' '))\n",
    "\n",
    "# rindex\n",
    "print(a.rindex('able'))\n",
    "\n",
    "# rjust\n",
    "print(a.rjust(50,'^'))\n",
    "\n",
    "# rpartition\n",
    "print(a.rpartition('i'))\n",
    "\n",
    "# rsplit\n",
    "\n",
    "# rstrip\n",
    "\n",
    "# splitlines\n",
    "\n",
    "# strip\n",
    "print(a.strip('PYT'))\n",
    "\n",
    "# swapcase\n",
    "print('hElLo'.swapcase())\n",
    "\n",
    "\n",
    "# title\n",
    "\n",
    "# translate\n",
    "\n",
    "# zfil\n",
    "print(a.zfill(40))"
   ]
  },
  {
   "cell_type": "code",
   "execution_count": 8,
   "metadata": {},
   "outputs": [
    {
     "name": "stdout",
     "output_type": "stream",
     "text": [
      "vijayvijay\n",
      "kumarkumarkumar\n",
      "apssdcapssdcapssdcapssdcapssdc\n",
      "pythonpythonpythonpython\n"
     ]
    }
   ],
   "source": [
    "inp='vijay2kumar3apssdc5python4'\n",
    "\n",
    "st_data=''\n",
    "in_data=''\n",
    "temp=''\n",
    "for ch in inp:\n",
    "    if(ch.isalpha()):\n",
    "        temp=temp+ch\n",
    "    if(ch.isnumeric()):\n",
    "        st_data=st_data+temp\n",
    "        in_data=in_data+ch\n",
    "        print(temp*int(ch))\n",
    "        temp=''\n",
    "\n",
    "        "
   ]
  },
  {
   "cell_type": "markdown",
   "metadata": {},
   "source": [
    "# Functions\n",
    "\n",
    "### user defined\n",
    "\n",
    "##### args & return values\n",
    "    \n",
    "    ~ with args & with return\n",
    "    ~ with args & without return\n",
    "    ~ without args & with return\n",
    "    ~ without args & without return\n",
    "#### syntax\n",
    "    def function_name(arguments):\n",
    "        statements\n",
    "        .\n",
    "        .\n",
    "        .\n",
    "        .\n",
    "        "
   ]
  },
  {
   "cell_type": "code",
   "execution_count": 9,
   "metadata": {},
   "outputs": [
    {
     "name": "stdout",
     "output_type": "stream",
     "text": [
      "my name is sai and my organisation is infosys\n"
     ]
    }
   ],
   "source": [
    "# with args & with return\n",
    "def org(name,org):\n",
    "    return (\"my name is {} and my organisation is {}\".format(name,org))\n",
    "    \n",
    "    \n",
    "print(org('sai','infosys'))"
   ]
  },
  {
   "cell_type": "code",
   "execution_count": 10,
   "metadata": {},
   "outputs": [
    {
     "name": "stdout",
     "output_type": "stream",
     "text": [
      "my name is sai and my organisation is infosys\n"
     ]
    }
   ],
   "source": [
    "# with args & without return\n",
    "def org(name,org):\n",
    "    print(\"my name is {} and my organisation is {}\".format(name,org))\n",
    "    \n",
    "    \n",
    "org('sai','infosys')"
   ]
  },
  {
   "cell_type": "code",
   "execution_count": 11,
   "metadata": {},
   "outputs": [
    {
     "name": "stdout",
     "output_type": "stream",
     "text": [
      "my name is sai and my organisation is infosys\n"
     ]
    }
   ],
   "source": [
    "# without args & with return\n",
    "def org():\n",
    "    return(\"my name is {} and my organisation is {}\".format('sai','infosys'))\n",
    "    \n",
    "    \n",
    "print(org())"
   ]
  },
  {
   "cell_type": "code",
   "execution_count": 12,
   "metadata": {},
   "outputs": [
    {
     "name": "stdout",
     "output_type": "stream",
     "text": [
      "my name is sai and my organisation is infosys\n"
     ]
    }
   ],
   "source": [
    "# without args & without return\n",
    "def org():\n",
    "    print(\"my name is {} and my organisation is {}\".format('sai','infosys'))\n",
    "    \n",
    "    \n",
    "org()"
   ]
  },
  {
   "cell_type": "markdown",
   "metadata": {},
   "source": [
    "## Lambda\n",
    "\n",
    "single line functions"
   ]
  },
  {
   "cell_type": "code",
   "execution_count": 14,
   "metadata": {},
   "outputs": [
    {
     "name": "stdout",
     "output_type": "stream",
     "text": [
      "7\n"
     ]
    }
   ],
   "source": [
    "add= lambda x,y:x+y\n",
    "\n",
    "print(add(2,5))"
   ]
  },
  {
   "cell_type": "code",
   "execution_count": 17,
   "metadata": {},
   "outputs": [
    {
     "data": {
      "text/plain": [
       "True"
      ]
     },
     "execution_count": 17,
     "metadata": {},
     "output_type": "execute_result"
    }
   ],
   "source": [
    "even= lambda n: n%2==0\n",
    "\n",
    "even(2)"
   ]
  },
  {
   "cell_type": "markdown",
   "metadata": {},
   "source": [
    "## Map function\n",
    "\n",
    "map(datatype/value,iterable)"
   ]
  },
  {
   "cell_type": "code",
   "execution_count": 7,
   "metadata": {},
   "outputs": [
    {
     "name": "stdout",
     "output_type": "stream",
     "text": [
      "123456\n"
     ]
    }
   ],
   "source": [
    "l=[1,2,3,4,5,6]\n",
    "data=list(map(str,l))\n",
    "\n",
    "data=''.join(data)\n",
    "print(data)"
   ]
  },
  {
   "cell_type": "code",
   "execution_count": 8,
   "metadata": {},
   "outputs": [
    {
     "ename": "NameError",
     "evalue": "name 'even' is not defined",
     "output_type": "error",
     "traceback": [
      "\u001b[1;31m---------------------------------------------------------------------------\u001b[0m",
      "\u001b[1;31mNameError\u001b[0m                                 Traceback (most recent call last)",
      "\u001b[1;32m<ipython-input-8-ec94abbbcae3>\u001b[0m in \u001b[0;36m<module>\u001b[1;34m\u001b[0m\n\u001b[1;32m----> 1\u001b[1;33m \u001b[0mlist\u001b[0m\u001b[1;33m(\u001b[0m\u001b[0mmap\u001b[0m\u001b[1;33m(\u001b[0m\u001b[0meven\u001b[0m\u001b[1;33m,\u001b[0m\u001b[0ml\u001b[0m\u001b[1;33m)\u001b[0m\u001b[1;33m)\u001b[0m\u001b[1;33m\u001b[0m\u001b[1;33m\u001b[0m\u001b[0m\n\u001b[0m",
      "\u001b[1;31mNameError\u001b[0m: name 'even' is not defined"
     ]
    }
   ],
   "source": [
    "list(map(even,l))"
   ]
  },
  {
   "cell_type": "markdown",
   "metadata": {},
   "source": [
    "## Filter function"
   ]
  },
  {
   "cell_type": "code",
   "execution_count": 9,
   "metadata": {},
   "outputs": [
    {
     "ename": "NameError",
     "evalue": "name 'even' is not defined",
     "output_type": "error",
     "traceback": [
      "\u001b[1;31m---------------------------------------------------------------------------\u001b[0m",
      "\u001b[1;31mNameError\u001b[0m                                 Traceback (most recent call last)",
      "\u001b[1;32m<ipython-input-9-a396f2eba5c5>\u001b[0m in \u001b[0;36m<module>\u001b[1;34m\u001b[0m\n\u001b[1;32m----> 1\u001b[1;33m \u001b[0mlist\u001b[0m\u001b[1;33m(\u001b[0m\u001b[0mfilter\u001b[0m\u001b[1;33m(\u001b[0m\u001b[0meven\u001b[0m\u001b[1;33m,\u001b[0m\u001b[0ml\u001b[0m\u001b[1;33m)\u001b[0m\u001b[1;33m)\u001b[0m\u001b[1;33m\u001b[0m\u001b[1;33m\u001b[0m\u001b[0m\n\u001b[0m",
      "\u001b[1;31mNameError\u001b[0m: name 'even' is not defined"
     ]
    }
   ],
   "source": [
    "list(filter(even,l))"
   ]
  },
  {
   "cell_type": "markdown",
   "metadata": {},
   "source": [
    "## Lists\n",
    "    just like an array denoted by [ ]"
   ]
  },
  {
   "cell_type": "code",
   "execution_count": 10,
   "metadata": {},
   "outputs": [
    {
     "name": "stdout",
     "output_type": "stream",
     "text": [
      "['__add__', '__class__', '__contains__', '__delattr__', '__delitem__', '__dir__', '__doc__', '__eq__', '__format__', '__ge__', '__getattribute__', '__getitem__', '__gt__', '__hash__', '__iadd__', '__imul__', '__init__', '__init_subclass__', '__iter__', '__le__', '__len__', '__lt__', '__mul__', '__ne__', '__new__', '__reduce__', '__reduce_ex__', '__repr__', '__reversed__', '__rmul__', '__setattr__', '__setitem__', '__sizeof__', '__str__', '__subclasshook__', 'append', 'clear', 'copy', 'count', 'extend', 'index', 'insert', 'pop', 'remove', 'reverse', 'sort']\n"
     ]
    }
   ],
   "source": [
    "print(dir(l))"
   ]
  },
  {
   "cell_type": "markdown",
   "metadata": {},
   "source": [
    "'append', 'clear', 'copy', 'count', 'extend', 'index', 'insert', 'pop', 'remove', 'reverse', 'sort'"
   ]
  },
  {
   "cell_type": "code",
   "execution_count": 11,
   "metadata": {},
   "outputs": [
    {
     "name": "stdout",
     "output_type": "stream",
     "text": [
      "[1, 2, 3, 4, 5, 6, 7]\n"
     ]
    }
   ],
   "source": [
    "l.append(7)\n",
    "print(l)"
   ]
  },
  {
   "cell_type": "code",
   "execution_count": 12,
   "metadata": {},
   "outputs": [
    {
     "data": {
      "text/plain": [
       "1"
      ]
     },
     "execution_count": 12,
     "metadata": {},
     "output_type": "execute_result"
    }
   ],
   "source": [
    "l.count(7)"
   ]
  },
  {
   "cell_type": "code",
   "execution_count": 13,
   "metadata": {},
   "outputs": [
    {
     "name": "stdout",
     "output_type": "stream",
     "text": [
      "[1, 2, 3, 4, 5, 6, 7, 8, 9, 10]\n"
     ]
    }
   ],
   "source": [
    "l.extend([8,9,10])\n",
    "print(l)"
   ]
  },
  {
   "cell_type": "code",
   "execution_count": 14,
   "metadata": {},
   "outputs": [
    {
     "data": {
      "text/plain": [
       "6"
      ]
     },
     "execution_count": 14,
     "metadata": {},
     "output_type": "execute_result"
    }
   ],
   "source": [
    "l.index(7)"
   ]
  },
  {
   "cell_type": "code",
   "execution_count": 15,
   "metadata": {},
   "outputs": [
    {
     "name": "stdout",
     "output_type": "stream",
     "text": [
      "[1, 2, 3, 4, 5, 6, 7, 8, 9]\n"
     ]
    }
   ],
   "source": [
    "l.pop()\n",
    "print(l)"
   ]
  },
  {
   "cell_type": "code",
   "execution_count": 16,
   "metadata": {},
   "outputs": [],
   "source": [
    "l.insert(0,0)"
   ]
  },
  {
   "cell_type": "code",
   "execution_count": 18,
   "metadata": {},
   "outputs": [
    {
     "name": "stdout",
     "output_type": "stream",
     "text": [
      "[0, 1, 2, 3, 4, 5, 6, 7, 8, 9, 23]\n"
     ]
    }
   ],
   "source": [
    "l.append(23)\n",
    "print(l)"
   ]
  },
  {
   "cell_type": "code",
   "execution_count": 19,
   "metadata": {},
   "outputs": [
    {
     "name": "stdout",
     "output_type": "stream",
     "text": [
      "[0, 1, 2, 3, 4, 5, 6, 7, 8, 9]\n"
     ]
    }
   ],
   "source": [
    "l.remove(23)\n",
    "print(l)"
   ]
  },
  {
   "cell_type": "code",
   "execution_count": 61,
   "metadata": {},
   "outputs": [
    {
     "name": "stdout",
     "output_type": "stream",
     "text": [
      "[10, 9, 8, 7, 7, 6, 5, 4, 3, 2, 1]\n"
     ]
    }
   ],
   "source": [
    "l.reverse()\n",
    "print(l)"
   ]
  },
  {
   "cell_type": "code",
   "execution_count": 62,
   "metadata": {},
   "outputs": [
    {
     "name": "stdout",
     "output_type": "stream",
     "text": [
      "[1, 2, 3, 4, 5, 6, 7, 7, 8, 9, 10]\n"
     ]
    }
   ],
   "source": [
    "l.sort()\n",
    "print(l)"
   ]
  },
  {
   "cell_type": "code",
   "execution_count": 37,
   "metadata": {},
   "outputs": [
    {
     "name": "stdout",
     "output_type": "stream",
     "text": [
      "[]\n"
     ]
    }
   ],
   "source": [
    "l.clear()\n",
    "print(l)"
   ]
  },
  {
   "cell_type": "code",
   "execution_count": 21,
   "metadata": {},
   "outputs": [
    {
     "ename": "TypeError",
     "evalue": "unsupported operand type(s) for -: 'list' and 'list'",
     "output_type": "error",
     "traceback": [
      "\u001b[1;31m---------------------------------------------------------------------------\u001b[0m",
      "\u001b[1;31mTypeError\u001b[0m                                 Traceback (most recent call last)",
      "\u001b[1;32m<ipython-input-21-22965a67fd9e>\u001b[0m in \u001b[0;36m<module>\u001b[1;34m\u001b[0m\n\u001b[0;32m      2\u001b[0m \u001b[0mb\u001b[0m\u001b[1;33m=\u001b[0m\u001b[1;33m[\u001b[0m\u001b[1;36m5\u001b[0m\u001b[1;33m,\u001b[0m\u001b[1;36m6\u001b[0m\u001b[1;33m,\u001b[0m\u001b[1;36m9\u001b[0m\u001b[1;33m]\u001b[0m\u001b[1;33m\u001b[0m\u001b[1;33m\u001b[0m\u001b[0m\n\u001b[0;32m      3\u001b[0m \u001b[0mc\u001b[0m\u001b[1;33m=\u001b[0m\u001b[0ma\u001b[0m\u001b[1;33m+\u001b[0m\u001b[0mb\u001b[0m\u001b[1;33m\u001b[0m\u001b[1;33m\u001b[0m\u001b[0m\n\u001b[1;32m----> 4\u001b[1;33m \u001b[0md\u001b[0m\u001b[1;33m=\u001b[0m\u001b[0mc\u001b[0m\u001b[1;33m-\u001b[0m\u001b[0ma\u001b[0m\u001b[1;33m\u001b[0m\u001b[1;33m\u001b[0m\u001b[0m\n\u001b[0m\u001b[0;32m      5\u001b[0m \u001b[0mprint\u001b[0m\u001b[1;33m(\u001b[0m\u001b[0md\u001b[0m\u001b[1;33m)\u001b[0m\u001b[1;33m\u001b[0m\u001b[1;33m\u001b[0m\u001b[0m\n",
      "\u001b[1;31mTypeError\u001b[0m: unsupported operand type(s) for -: 'list' and 'list'"
     ]
    }
   ],
   "source": [
    "a=[1,2,2]\n",
    "b=[5,6,9]\n",
    "c=a+b\n",
    "d=c-a\n",
    "print(d)"
   ]
  },
  {
   "cell_type": "code",
   "execution_count": null,
   "metadata": {},
   "outputs": [],
   "source": []
  }
 ],
 "metadata": {
  "kernelspec": {
   "display_name": "Python 3",
   "language": "python",
   "name": "python3"
  },
  "language_info": {
   "codemirror_mode": {
    "name": "ipython",
    "version": 3
   },
   "file_extension": ".py",
   "mimetype": "text/x-python",
   "name": "python",
   "nbconvert_exporter": "python",
   "pygments_lexer": "ipython3",
   "version": "3.7.3"
  }
 },
 "nbformat": 4,
 "nbformat_minor": 2
}
