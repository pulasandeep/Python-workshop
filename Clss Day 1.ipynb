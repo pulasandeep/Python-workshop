{
 "cells": [
  {
   "cell_type": "markdown",
   "metadata": {},
   "source": [
    "## IPYNB Shortcuts\n",
    "\n",
    "\n",
    "Run the current cell : Shift + Enter\n",
    "\n",
    "Comment selected rows in a cell : Ctrl + /\n",
    "\n",
    "Add new cell below : Esc + b\n",
    "                   (or) b\n",
    "\n",
    "Add new cell above : Esc + a\n",
    "                   (or) a\n",
    "\n",
    "Delete cell : Esc + d + d\n",
    "            (or) d\n",
    "\n",
    "Markdown a cell : Esc + m\n",
    "                (or) m"
   ]
  },
  {
   "cell_type": "code",
   "execution_count": 2,
   "metadata": {},
   "outputs": [
    {
     "name": "stdout",
     "output_type": "stream",
     "text": [
      "Enter a value: 2\n",
      "Enter b value: 2\n"
     ]
    }
   ],
   "source": [
    "a=int(input(\"Enter a value: \"))\n",
    "b=int(input(\"Enter b value: \"))"
   ]
  },
  {
   "cell_type": "code",
   "execution_count": 10,
   "metadata": {},
   "outputs": [
    {
     "name": "stdout",
     "output_type": "stream",
     "text": [
      "11\n",
      "-1\n",
      "30\n",
      "0.8333333333333334\n",
      "5\n",
      "0\n"
     ]
    }
   ],
   "source": [
    "print(a+b)\n",
    "print(a-b)\n",
    "print(a*b)\n",
    "print(a/b)\n",
    "print(a%b)\n",
    "print(a//b)"
   ]
  },
  {
   "cell_type": "code",
   "execution_count": 25,
   "metadata": {
    "scrolled": true
   },
   "outputs": [
    {
     "name": "stdout",
     "output_type": "stream",
     "text": [
      "Addition of  10  and 6  is 16\n",
      "Subrtaction of  10  and 6  is 4\n",
      "Multiplication of  10  and 6  is 60\n",
      "Division of  10  and 6  is 1.6666666666666667\n",
      "Mod of  10  and 6  is 4\n",
      "Float division of  10  and 6  is 1\n"
     ]
    }
   ],
   "source": [
    "print(\"Addition of \",str(a),\" and\",str(b),\" is\",(a+b))\n",
    "print(\"Subrtaction of \",str(a),\" and\",str(b),\" is\",(a-b))\n",
    "print(\"Multiplication of \",str(a),\" and\",str(b),\" is\",(a*b))\n",
    "print(\"Division of \",str(a),\" and\",str(b),\" is\",(a/b))\n",
    "print(\"Mod of \",str(a),\" and\",str(b),\" is\",(a%b))\n",
    "print(\"Floor division of \",str(a),\" and\",str(b),\" is\",(a//b))"
   ]
  },
  {
   "cell_type": "code",
   "execution_count": 29,
   "metadata": {
    "scrolled": false
   },
   "outputs": [
    {
     "name": "stdout",
     "output_type": "stream",
     "text": [
      "Enter 5\n",
      "f( 5 ) is :  40\n"
     ]
    }
   ],
   "source": [
    "x=int(input(\"Enter \"))\n",
    "res=5*x+x*2+x\n",
    "print(\"f(\",x,\")\",\"is : \",res)"
   ]
  },
  {
   "cell_type": "code",
   "execution_count": 32,
   "metadata": {
    "scrolled": true
   },
   "outputs": [
    {
     "name": "stdout",
     "output_type": "stream",
     "text": [
      "f( 3 ) is :  84\n"
     ]
    }
   ],
   "source": [
    "# f(x)=x^2+8*x+5*x^2+2*x\n",
    "# we can use ^ operator \n",
    "# or\n",
    "# import math\n",
    "# math.pow(x,2)\n",
    "x=3\n",
    "r=x**2+8*x+5*x**2+2*x\n",
    "print(\"f(\",x,\")\",\"is : \",r)"
   ]
  },
  {
   "cell_type": "code",
   "execution_count": 43,
   "metadata": {},
   "outputs": [
    {
     "name": "stdout",
     "output_type": "stream",
     "text": [
      "2\n",
      "8\n",
      "f( 2 8 ) is :  114\n"
     ]
    }
   ],
   "source": [
    "#f(x,y)=x^2+y^2+x*y+2*x+2*y+(x+y)\n",
    "x=int(input())\n",
    "y=int(input())\n",
    "result=x**2+y**2+x*y+2*x+2*y+(x+y)\n",
    "print(\"f(\",x,y,\")\",\"is : \",result)"
   ]
  },
  {
   "cell_type": "code",
   "execution_count": 49,
   "metadata": {},
   "outputs": [
    {
     "name": "stdout",
     "output_type": "stream",
     "text": [
      "5\n",
      "6\n",
      "7\n",
      "f( 5 6 7 ) is :  669\n"
     ]
    }
   ],
   "source": [
    "#f(x,y,z)=x+y*z+y^3+z^3+(x+y+z)+2*(x+y+z)+(x+y+z)//2\n",
    "x=int(input())\n",
    "y=int(input())\n",
    "z=int(input())\n",
    "result=x+y*z+y**3+z**3+(x+y+z)+2*(x+y+z)+(x+y+z)//2\n",
    "print(\"f(\",x,y,z,\")\",\"is : \",result)"
   ]
  },
  {
   "cell_type": "code",
   "execution_count": null,
   "metadata": {},
   "outputs": [],
   "source": []
  }
 ],
 "metadata": {
  "kernelspec": {
   "display_name": "Python 3",
   "language": "python",
   "name": "python3"
  },
  "language_info": {
   "codemirror_mode": {
    "name": "ipython",
    "version": 3
   },
   "file_extension": ".py",
   "mimetype": "text/x-python",
   "name": "python",
   "nbconvert_exporter": "python",
   "pygments_lexer": "ipython3",
   "version": "3.7.3"
  }
 },
 "nbformat": 4,
 "nbformat_minor": 2
}
